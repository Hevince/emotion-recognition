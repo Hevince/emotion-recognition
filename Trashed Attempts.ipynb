{
 "cells": [
  {
   "cell_type": "markdown",
   "metadata": {},
   "source": [
    "--------------\n",
    "\n",
    "## Model 2\n",
    "\n",
    "Batch Size: 64\n",
    "\n",
    "Epochs: 10\n",
    "\n",
    "Optimizer: Adam\n",
    "\n",
    "Loss Function: Categorical Cross-Entropy\n",
    "\n",
    "Model Accuracy: 17.38%"
   ]
  },
  {
   "cell_type": "code",
   "execution_count": 19,
   "metadata": {},
   "outputs": [],
   "source": [
    "model = create_model()"
   ]
  },
  {
   "cell_type": "code",
   "execution_count": 20,
   "metadata": {},
   "outputs": [],
   "source": [
    "model.compile(optimizer = 'adam', loss = 'categorical_crossentropy', metrics = ['accuracy'])"
   ]
  },
  {
   "cell_type": "code",
   "execution_count": 21,
   "metadata": {
    "scrolled": true
   },
   "outputs": [
    {
     "name": "stdout",
     "output_type": "stream",
     "text": [
      "Epoch 1/10\n",
      "28709/28709 [==============================] - 75s 3ms/step - loss: 14.6279 - acc: 0.1427\n",
      "Epoch 2/10\n",
      "28709/28709 [==============================] - 72s 3ms/step - loss: 13.9841 - acc: 0.1430\n",
      "Epoch 3/10\n",
      "28709/28709 [==============================] - 72s 3ms/step - loss: 14.1165 - acc: 0.1428\n",
      "Epoch 4/10\n",
      "28709/28709 [==============================] - 72s 3ms/step - loss: 13.7421 - acc: 0.1541\n",
      "Epoch 5/10\n",
      "28709/28709 [==============================] - 72s 3ms/step - loss: 13.4603 - acc: 0.1682\n",
      "Epoch 6/10\n",
      "28709/28709 [==============================] - 73s 3ms/step - loss: 13.4369 - acc: 0.1682\n",
      "Epoch 7/10\n",
      "28709/28709 [==============================] - 73s 3ms/step - loss: 13.4986 - acc: 0.1671\n",
      "Epoch 8/10\n",
      "28709/28709 [==============================] - 73s 3ms/step - loss: 13.5061 - acc: 0.1684\n",
      "Epoch 9/10\n",
      "28709/28709 [==============================] - 73s 3ms/step - loss: 13.4880 - acc: 0.1684\n",
      "Epoch 10/10\n",
      "28709/28709 [==============================] - 73s 3ms/step - loss: 13.4745 - acc: 0.1684\n"
     ]
    },
    {
     "data": {
      "text/plain": [
       "<keras.callbacks.History at 0x1e34500da58>"
      ]
     },
     "execution_count": 21,
     "metadata": {},
     "output_type": "execute_result"
    }
   ],
   "source": [
    "model.fit(X_train, y_train, batch_size = 64, epochs = 10)"
   ]
  },
  {
   "cell_type": "code",
   "execution_count": 22,
   "metadata": {},
   "outputs": [
    {
     "name": "stdout",
     "output_type": "stream",
     "text": [
      "7178/7178 [==============================] - 6s 882us/step\n"
     ]
    }
   ],
   "source": [
    "scores = model.evaluate(X_test, y_test)"
   ]
  },
  {
   "cell_type": "code",
   "execution_count": 23,
   "metadata": {},
   "outputs": [
    {
     "name": "stdout",
     "output_type": "stream",
     "text": [
      "Accuracy:  17.386458623572025 %\n"
     ]
    }
   ],
   "source": [
    "print(\"Accuracy: \", scores[1]*100, \"%\")"
   ]
  },
  {
   "cell_type": "code",
   "execution_count": 24,
   "metadata": {},
   "outputs": [],
   "source": [
    "model.save('conv_adam_batch64_epoch10.h5')"
   ]
  },
  {
   "cell_type": "markdown",
   "metadata": {},
   "source": [
    "----------\n",
    "\n",
    "## Model 3\n",
    "\n",
    "Batch Size: 32\n",
    "\n",
    "Epochs: 100\n",
    "\n",
    "Optimizer: RMSProp\n",
    "\n",
    "Loss Function: Categorical Cross-Entropy\n",
    "\n",
    "Model Accuracy: 42.07%"
   ]
  },
  {
   "cell_type": "code",
   "execution_count": 63,
   "metadata": {},
   "outputs": [],
   "source": [
    "model = create_model()"
   ]
  },
  {
   "cell_type": "code",
   "execution_count": 64,
   "metadata": {},
   "outputs": [],
   "source": [
    "model.compile(optimizer = 'rmsprop', loss = 'categorical_crossentropy', metrics = ['accuracy'])"
   ]
  },
  {
   "cell_type": "code",
   "execution_count": 65,
   "metadata": {
    "scrolled": true
   },
   "outputs": [
    {
     "name": "stdout",
     "output_type": "stream",
     "text": [
      "Train on 28709 samples, validate on 7178 samples\n",
      "Epoch 1/100\n",
      "28709/28709 [==============================] - 136s 5ms/step - loss: 8.6108 - acc: 0.1960 - val_loss: 1.7931 - val_acc: 0.2726\n",
      "Epoch 2/100\n",
      "28709/28709 [==============================] - 127s 4ms/step - loss: 1.6965 - acc: 0.3628 - val_loss: 1.5957 - val_acc: 0.4330\n",
      "Epoch 3/100\n",
      "28709/28709 [==============================] - 127s 4ms/step - loss: 1.5337 - acc: 0.4499 - val_loss: 1.4655 - val_acc: 0.4627\n",
      "Epoch 4/100\n",
      "28709/28709 [==============================] - 127s 4ms/step - loss: 1.4720 - acc: 0.4739 - val_loss: 1.8122 - val_acc: 0.3792\n",
      "Epoch 5/100\n",
      "28709/28709 [==============================] - 128s 4ms/step - loss: 1.4432 - acc: 0.4858 - val_loss: 1.3765 - val_acc: 0.5130\n",
      "Epoch 6/100\n",
      "28709/28709 [==============================] - 128s 4ms/step - loss: 1.4246 - acc: 0.4998 - val_loss: 1.3821 - val_acc: 0.5099\n",
      "Epoch 7/100\n",
      "28709/28709 [==============================] - 127s 4ms/step - loss: 1.4279 - acc: 0.4985 - val_loss: 1.4393 - val_acc: 0.4787\n",
      "Epoch 8/100\n",
      "28709/28709 [==============================] - 128s 4ms/step - loss: 1.4181 - acc: 0.5018 - val_loss: 1.3926 - val_acc: 0.5004\n",
      "Epoch 9/100\n",
      "28709/28709 [==============================] - 127s 4ms/step - loss: 1.4176 - acc: 0.5017 - val_loss: 1.4940 - val_acc: 0.4914\n"
     ]
    },
    {
     "data": {
      "text/plain": [
       "<keras.callbacks.History at 0x2138145f7f0>"
      ]
     },
     "execution_count": 65,
     "metadata": {},
     "output_type": "execute_result"
    }
   ],
   "source": [
    "model.fit(x = X_train, \n",
    "          y = y_train, \n",
    "          batch_size = 32, \n",
    "          epochs = 100,\n",
    "          callbacks = [early_stopping_monitor],\n",
    "          validation_data = (X_test, y_test))"
   ]
  },
  {
   "cell_type": "code",
   "execution_count": 66,
   "metadata": {},
   "outputs": [
    {
     "name": "stdout",
     "output_type": "stream",
     "text": [
      "7178/7178 [==============================] - 8s 1ms/step\n"
     ]
    }
   ],
   "source": [
    "scores = model.evaluate(X_test, y_test)"
   ]
  },
  {
   "cell_type": "code",
   "execution_count": 67,
   "metadata": {},
   "outputs": [
    {
     "name": "stdout",
     "output_type": "stream",
     "text": [
      "Accuracy:  49.13624965212876 %\n"
     ]
    }
   ],
   "source": [
    "print(\"Accuracy: \", scores[1]*100, \"%\")"
   ]
  },
  {
   "cell_type": "code",
   "execution_count": 69,
   "metadata": {},
   "outputs": [],
   "source": [
    "model.save('conv_rms_batch32_epoch100.h5')"
   ]
  },
  {
   "cell_type": "markdown",
   "metadata": {},
   "source": [
    "----------\n",
    "\n",
    "## Model 1\n",
    "\n",
    "Batch Size: 64\n",
    "\n",
    "Epochs: 10\n",
    "\n",
    "Optimizer: RMSProp\n",
    "\n",
    "Loss Function: Categorical Cross-Entropy\n",
    "\n",
    "Model Accuracy: 55.61%"
   ]
  },
  {
   "cell_type": "code",
   "execution_count": 12,
   "metadata": {},
   "outputs": [],
   "source": [
    "model = create_model()"
   ]
  },
  {
   "cell_type": "code",
   "execution_count": 13,
   "metadata": {},
   "outputs": [],
   "source": [
    "model.compile(optimizer = 'rmsprop', loss = 'categorical_crossentropy', metrics = ['accuracy'])"
   ]
  },
  {
   "cell_type": "code",
   "execution_count": 14,
   "metadata": {},
   "outputs": [
    {
     "name": "stdout",
     "output_type": "stream",
     "text": [
      "Epoch 1/10\n",
      "28709/28709 [==============================] - 98s 3ms/step - loss: 10.2157 - acc: 0.1618\n",
      "Epoch 2/10\n",
      "28709/28709 [==============================] - 90s 3ms/step - loss: 1.7864 - acc: 0.2989\n",
      "Epoch 3/10\n",
      "28709/28709 [==============================] - 90s 3ms/step - loss: 1.5725 - acc: 0.4391\n",
      "Epoch 4/10\n",
      "28709/28709 [==============================] - 90s 3ms/step - loss: 1.4780 - acc: 0.4885\n",
      "Epoch 5/10\n",
      "28709/28709 [==============================] - 90s 3ms/step - loss: 1.4196 - acc: 0.5104\n",
      "Epoch 6/10\n",
      "28709/28709 [==============================] - 90s 3ms/step - loss: 1.3897 - acc: 0.5276\n",
      "Epoch 7/10\n",
      "28709/28709 [==============================] - 72s 3ms/step - loss: 1.3716 - acc: 0.5331\n",
      "Epoch 8/10\n",
      "28709/28709 [==============================] - 69s 2ms/step - loss: 1.3458 - acc: 0.5464\n",
      "Epoch 9/10\n",
      "28709/28709 [==============================] - 69s 2ms/step - loss: 1.3322 - acc: 0.5504\n",
      "Epoch 10/10\n",
      "28709/28709 [==============================] - 69s 2ms/step - loss: 1.3144 - acc: 0.5610\n"
     ]
    },
    {
     "data": {
      "text/plain": [
       "<keras.callbacks.History at 0x1e365361be0>"
      ]
     },
     "execution_count": 14,
     "metadata": {},
     "output_type": "execute_result"
    }
   ],
   "source": [
    "model.fit(X_train, y_train, batch_size = 64, epochs = 10)"
   ]
  },
  {
   "cell_type": "code",
   "execution_count": 15,
   "metadata": {},
   "outputs": [
    {
     "name": "stdout",
     "output_type": "stream",
     "text": [
      "7178/7178 [==============================] - 6s 891us/step\n"
     ]
    }
   ],
   "source": [
    "scores = model.evaluate(X_test, y_test)"
   ]
  },
  {
   "cell_type": "code",
   "execution_count": 16,
   "metadata": {},
   "outputs": [
    {
     "name": "stdout",
     "output_type": "stream",
     "text": [
      "Accuracy:  55.61437726552256 %\n"
     ]
    }
   ],
   "source": [
    "print(\"Accuracy: \", scores[1]*100, \"%\")"
   ]
  },
  {
   "cell_type": "code",
   "execution_count": 18,
   "metadata": {},
   "outputs": [],
   "source": [
    "model.save('conv_rmsprop_batch64_epoch10.h5')"
   ]
  },
  {
   "cell_type": "markdown",
   "metadata": {},
   "source": [
    "----------\n",
    "\n",
    "## Model 4\n",
    "\n",
    "Batch Size: 64\n",
    "\n",
    "Epochs: 100\n",
    "\n",
    "Optimizer: RMSProp\n",
    "\n",
    "Loss Function: Categorical Cross-Entropy\n",
    "\n",
    "Model Accuracy: 55.96%"
   ]
  },
  {
   "cell_type": "code",
   "execution_count": 56,
   "metadata": {},
   "outputs": [],
   "source": [
    "model = create_model()"
   ]
  },
  {
   "cell_type": "code",
   "execution_count": 57,
   "metadata": {},
   "outputs": [],
   "source": [
    "model.compile(optimizer = 'rmsprop', loss = 'categorical_crossentropy', metrics = ['accuracy'])"
   ]
  },
  {
   "cell_type": "code",
   "execution_count": 58,
   "metadata": {
    "scrolled": true
   },
   "outputs": [
    {
     "name": "stdout",
     "output_type": "stream",
     "text": [
      "Train on 28709 samples, validate on 7178 samples\n",
      "Epoch 1/100\n",
      "28709/28709 [==============================] - 77s 3ms/step - loss: 13.2574 - acc: 0.1914 - val_loss: 13.3527 - val_acc: 0.1719\n",
      "Epoch 2/100\n",
      "28709/28709 [==============================] - 71s 2ms/step - loss: 13.2518 - acc: 0.1782 - val_loss: 13.3530 - val_acc: 0.1718\n",
      "Epoch 3/100\n",
      "28709/28709 [==============================] - 71s 2ms/step - loss: 12.2710 - acc: 0.2390 - val_loss: 12.1373 - val_acc: 0.2473\n",
      "Epoch 4/100\n",
      "28709/28709 [==============================] - 71s 2ms/step - loss: 12.6308 - acc: 0.2167 - val_loss: 13.3516 - val_acc: 0.1719\n",
      "Epoch 5/100\n",
      "28709/28709 [==============================] - 72s 2ms/step - loss: 7.3487 - acc: 0.2032 - val_loss: 1.8440 - val_acc: 0.2476\n",
      "Epoch 6/100\n",
      "28709/28709 [==============================] - 72s 2ms/step - loss: 1.7174 - acc: 0.3518 - val_loss: 1.5616 - val_acc: 0.4306\n",
      "Epoch 7/100\n",
      "28709/28709 [==============================] - 72s 2ms/step - loss: 1.5351 - acc: 0.4593 - val_loss: 1.7008 - val_acc: 0.4216\n",
      "Epoch 8/100\n",
      "28709/28709 [==============================] - 72s 2ms/step - loss: 1.4585 - acc: 0.4983 - val_loss: 1.4213 - val_acc: 0.5047\n",
      "Epoch 9/100\n",
      "28709/28709 [==============================] - 72s 3ms/step - loss: 1.4150 - acc: 0.5160 - val_loss: 1.3572 - val_acc: 0.5378\n",
      "Epoch 10/100\n",
      "28709/28709 [==============================] - 73s 3ms/step - loss: 1.3870 - acc: 0.5293 - val_loss: 1.4553 - val_acc: 0.5035\n",
      "Epoch 11/100\n",
      "28709/28709 [==============================] - 73s 3ms/step - loss: 1.3666 - acc: 0.5377 - val_loss: 1.3220 - val_acc: 0.5531\n",
      "Epoch 12/100\n",
      "28709/28709 [==============================] - 73s 3ms/step - loss: 1.3386 - acc: 0.5494 - val_loss: 1.3870 - val_acc: 0.5362\n",
      "Epoch 13/100\n",
      "28709/28709 [==============================] - 74s 3ms/step - loss: 1.3263 - acc: 0.5559 - val_loss: 1.3142 - val_acc: 0.5476\n",
      "Epoch 14/100\n",
      "28709/28709 [==============================] - 73s 3ms/step - loss: 1.3076 - acc: 0.5649 - val_loss: 1.2829 - val_acc: 0.5690\n",
      "Epoch 15/100\n",
      "28709/28709 [==============================] - 74s 3ms/step - loss: 1.2953 - acc: 0.5718 - val_loss: 1.3357 - val_acc: 0.5605\n",
      "Epoch 16/100\n",
      "28709/28709 [==============================] - 73s 3ms/step - loss: 1.2811 - acc: 0.5731 - val_loss: 1.2731 - val_acc: 0.5723\n",
      "Epoch 17/100\n",
      "28709/28709 [==============================] - 73s 3ms/step - loss: 1.2793 - acc: 0.5784 - val_loss: 1.2862 - val_acc: 0.5694\n",
      "Epoch 18/100\n",
      "28709/28709 [==============================] - 73s 3ms/step - loss: 1.2670 - acc: 0.5797 - val_loss: 1.2731 - val_acc: 0.5723\n",
      "Epoch 19/100\n",
      "28709/28709 [==============================] - 73s 3ms/step - loss: 1.2545 - acc: 0.5830 - val_loss: 1.4499 - val_acc: 0.5550\n",
      "Epoch 20/100\n",
      "28709/28709 [==============================] - 73s 3ms/step - loss: 1.2502 - acc: 0.5876 - val_loss: 1.2613 - val_acc: 0.5762\n",
      "Epoch 21/100\n",
      "28709/28709 [==============================] - 88s 3ms/step - loss: 1.2379 - acc: 0.5897 - val_loss: 1.3171 - val_acc: 0.5453\n",
      "Epoch 22/100\n",
      "28709/28709 [==============================] - 97s 3ms/step - loss: 1.2387 - acc: 0.5900 - val_loss: 1.3665 - val_acc: 0.5326\n",
      "Epoch 23/100\n",
      "28709/28709 [==============================] - 96s 3ms/step - loss: 1.2335 - acc: 0.5931 - val_loss: 1.3268 - val_acc: 0.5582\n",
      "Epoch 24/100\n",
      "28709/28709 [==============================] - 97s 3ms/step - loss: 1.2241 - acc: 0.5954 - val_loss: 1.2860 - val_acc: 0.5596\n"
     ]
    },
    {
     "data": {
      "text/plain": [
       "<keras.callbacks.History at 0x2137c7a3d68>"
      ]
     },
     "execution_count": 58,
     "metadata": {},
     "output_type": "execute_result"
    }
   ],
   "source": [
    "model.fit(x = X_train, \n",
    "          y = y_train, \n",
    "          batch_size = 64, \n",
    "          epochs = 100,\n",
    "          callbacks = [early_stopping_monitor],\n",
    "          validation_data = (X_test, y_test))"
   ]
  },
  {
   "cell_type": "code",
   "execution_count": 59,
   "metadata": {},
   "outputs": [
    {
     "name": "stdout",
     "output_type": "stream",
     "text": [
      "7178/7178 [==============================] - 8s 1ms/step\n"
     ]
    }
   ],
   "source": [
    "scores = model.evaluate(X_test, y_test)"
   ]
  },
  {
   "cell_type": "code",
   "execution_count": 60,
   "metadata": {},
   "outputs": [
    {
     "name": "stdout",
     "output_type": "stream",
     "text": [
      "Accuracy:  55.96266369503765 %\n"
     ]
    }
   ],
   "source": [
    "print(\"Accuracy: \", scores[1]*100, \"%\")"
   ]
  },
  {
   "cell_type": "code",
   "execution_count": 62,
   "metadata": {},
   "outputs": [],
   "source": [
    "model.save('conv_rms_batch64_epoch100.h5')"
   ]
  },
  {
   "cell_type": "markdown",
   "metadata": {},
   "source": [
    "--------------\n",
    "\n",
    "## Model 7\n",
    "\n",
    "Batch Size: 64\n",
    "\n",
    "Epochs: 10\n",
    "\n",
    "Optimizer: SGD\n",
    "\n",
    "Loss Function: Categorical Cross-Entropy\n",
    "\n",
    "Model Accuracy: 53.14%"
   ]
  },
  {
   "cell_type": "code",
   "execution_count": 15,
   "metadata": {},
   "outputs": [],
   "source": [
    "model = create_model()"
   ]
  },
  {
   "cell_type": "code",
   "execution_count": 16,
   "metadata": {},
   "outputs": [],
   "source": [
    "sgd = keras.optimizers.SGD(lr=0.005)\n",
    "model.compile(optimizer = sgd, loss = 'categorical_crossentropy', metrics = ['accuracy'])"
   ]
  },
  {
   "cell_type": "code",
   "execution_count": 17,
   "metadata": {
    "scrolled": true
   },
   "outputs": [
    {
     "name": "stdout",
     "output_type": "stream",
     "text": [
      "Epoch 1/10\n",
      "28709/28709 [==============================] - 62s 2ms/step - loss: 3.9512 - acc: 0.2412\n",
      "Epoch 2/10\n",
      "28709/28709 [==============================] - 61s 2ms/step - loss: 3.7025 - acc: 0.2802\n",
      "Epoch 3/10\n",
      "28709/28709 [==============================] - 61s 2ms/step - loss: 3.5757 - acc: 0.3502\n",
      "Epoch 4/10\n",
      "28709/28709 [==============================] - 61s 2ms/step - loss: 3.4832 - acc: 0.3865\n",
      "Epoch 5/10\n",
      "28709/28709 [==============================] - 61s 2ms/step - loss: 3.4059 - acc: 0.4160\n",
      "Epoch 6/10\n",
      "28709/28709 [==============================] - 61s 2ms/step - loss: 3.3268 - acc: 0.4410\n",
      "Epoch 7/10\n",
      "28709/28709 [==============================] - 61s 2ms/step - loss: 3.2569 - acc: 0.4624\n",
      "Epoch 8/10\n",
      "28709/28709 [==============================] - 61s 2ms/step - loss: 3.1912 - acc: 0.4849\n",
      "Epoch 9/10\n",
      "28709/28709 [==============================] - 61s 2ms/step - loss: 3.1323 - acc: 0.5018\n",
      "Epoch 10/10\n",
      "28709/28709 [==============================] - 63s 2ms/step - loss: 3.0821 - acc: 0.5147\n"
     ]
    },
    {
     "data": {
      "text/plain": [
       "<keras.callbacks.History at 0x1aa0b3af320>"
      ]
     },
     "execution_count": 17,
     "metadata": {},
     "output_type": "execute_result"
    }
   ],
   "source": [
    "model.fit(X_train, y_train, batch_size = 64, epochs = 10)"
   ]
  },
  {
   "cell_type": "code",
   "execution_count": 19,
   "metadata": {},
   "outputs": [
    {
     "name": "stdout",
     "output_type": "stream",
     "text": [
      "7178/7178 [==============================] - 6s 831us/step\n"
     ]
    }
   ],
   "source": [
    "scores = model.evaluate(X_test, y_test)"
   ]
  },
  {
   "cell_type": "code",
   "execution_count": 20,
   "metadata": {},
   "outputs": [
    {
     "name": "stdout",
     "output_type": "stream",
     "text": [
      "Accuracy:  53.148509334491536 %\n"
     ]
    }
   ],
   "source": [
    "print(\"Accuracy: \", scores[1]*100, \"%\")"
   ]
  },
  {
   "cell_type": "code",
   "execution_count": 38,
   "metadata": {},
   "outputs": [],
   "source": [
    "model.save('conv_sgd_batch64_epoch10.h5')"
   ]
  },
  {
   "cell_type": "markdown",
   "metadata": {},
   "source": [
    "--------------\n",
    "\n",
    "## Model 8\n",
    "\n",
    "Batch Size: 64\n",
    "\n",
    "Epochs: 10\n",
    "\n",
    "Optimizer: Adam\n",
    "\n",
    "Learning Rate: 0.0001\n",
    "\n",
    "Decay: 10e-6\n",
    "\n",
    "Loss Function: Categorical Cross-Entropy\n",
    "\n",
    "Model Accuracy: 59.55%"
   ]
  },
  {
   "cell_type": "code",
   "execution_count": 47,
   "metadata": {},
   "outputs": [],
   "source": [
    "model = create_model()"
   ]
  },
  {
   "cell_type": "code",
   "execution_count": 48,
   "metadata": {},
   "outputs": [],
   "source": [
    "adam = keras.optimizers.Adam(lr=0.0001, decay=10e-6)\n",
    "model.compile(optimizer = adam, loss = 'categorical_crossentropy', metrics = ['accuracy'])"
   ]
  },
  {
   "cell_type": "code",
   "execution_count": 49,
   "metadata": {
    "scrolled": true
   },
   "outputs": [
    {
     "name": "stdout",
     "output_type": "stream",
     "text": [
      "Epoch 1/10\n",
      "28709/28709 [==============================] - 76s 3ms/step - loss: 3.6515 - acc: 0.3014\n",
      "Epoch 2/10\n",
      "28709/28709 [==============================] - 71s 2ms/step - loss: 2.7604 - acc: 0.4270\n",
      "Epoch 3/10\n",
      "28709/28709 [==============================] - 71s 2ms/step - loss: 2.3825 - acc: 0.4850\n",
      "Epoch 4/10\n",
      "28709/28709 [==============================] - 71s 2ms/step - loss: 2.0911 - acc: 0.5279\n",
      "Epoch 5/10\n",
      "28709/28709 [==============================] - 71s 2ms/step - loss: 1.8608 - acc: 0.5731\n",
      "Epoch 6/10\n",
      "28709/28709 [==============================] - 71s 2ms/step - loss: 1.6737 - acc: 0.6134\n",
      "Epoch 7/10\n",
      "28709/28709 [==============================] - 72s 3ms/step - loss: 1.5019 - acc: 0.6589\n",
      "Epoch 8/10\n",
      "28709/28709 [==============================] - 73s 3ms/step - loss: 1.3582 - acc: 0.7092\n",
      "Epoch 9/10\n",
      "28709/28709 [==============================] - 73s 3ms/step - loss: 1.2100 - acc: 0.7610\n",
      "Epoch 10/10\n",
      "28709/28709 [==============================] - 73s 3ms/step - loss: 1.0896 - acc: 0.8119\n"
     ]
    },
    {
     "data": {
      "text/plain": [
       "<keras.callbacks.History at 0x1ab66a1dba8>"
      ]
     },
     "execution_count": 49,
     "metadata": {},
     "output_type": "execute_result"
    }
   ],
   "source": [
    "model.fit(X_train, y_train, batch_size = 64, epochs = 10)"
   ]
  },
  {
   "cell_type": "code",
   "execution_count": 50,
   "metadata": {},
   "outputs": [
    {
     "name": "stdout",
     "output_type": "stream",
     "text": [
      "7178/7178 [==============================] - 10s 1ms/step\n"
     ]
    }
   ],
   "source": [
    "scores = model.evaluate(X_test, y_test)"
   ]
  },
  {
   "cell_type": "code",
   "execution_count": 51,
   "metadata": {},
   "outputs": [
    {
     "name": "stdout",
     "output_type": "stream",
     "text": [
      "Accuracy:  59.5569796617332 %\n"
     ]
    }
   ],
   "source": [
    "print(\"Accuracy: \", scores[1]*100, \"%\")"
   ]
  },
  {
   "cell_type": "code",
   "execution_count": 52,
   "metadata": {},
   "outputs": [],
   "source": [
    "model.save('conv_adam_lr0.0001_batch64_epoch10.h5')"
   ]
  },
  {
   "cell_type": "code",
   "execution_count": null,
   "metadata": {},
   "outputs": [],
   "source": []
  },
  {
   "cell_type": "code",
   "execution_count": null,
   "metadata": {},
   "outputs": [],
   "source": []
  }
 ],
 "metadata": {
  "kernelspec": {
   "display_name": "Python 3",
   "language": "python",
   "name": "python3"
  },
  "language_info": {
   "codemirror_mode": {
    "name": "ipython",
    "version": 3
   },
   "file_extension": ".py",
   "mimetype": "text/x-python",
   "name": "python",
   "nbconvert_exporter": "python",
   "pygments_lexer": "ipython3",
   "version": "3.5.4"
  }
 },
 "nbformat": 4,
 "nbformat_minor": 2
}
