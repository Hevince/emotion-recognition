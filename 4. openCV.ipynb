{
 "cells": [
  {
   "cell_type": "code",
   "execution_count": 6,
   "metadata": {},
   "outputs": [],
   "source": [
    "import pandas as pd\n",
    "import numpy as np\n",
    "import matplotlib.pyplot as plt\n",
    "import matplotlib.image as mpimg\n",
    "import cv2\n",
    "import os\n",
    "from PIL import Image\n",
    "import math\n",
    "import time\n",
    "%matplotlib inline"
   ]
  },
  {
   "cell_type": "code",
   "execution_count": 7,
   "metadata": {},
   "outputs": [],
   "source": [
    "from keras.models import load_model\n",
    "from keras.models import Sequential\n",
    "from keras.layers import Dense, Conv2D, MaxPooling2D, Dropout, Flatten\n",
    "from keras.utils import np_utils\n",
    "from keras import regularizers\n",
    "from keras.callbacks import EarlyStopping\n",
    "import keras \n",
    "import h5py\n",
    "model = load_model('conv_adam_lr0.0001_batch128_epoch20.h5')"
   ]
  },
  {
   "cell_type": "code",
   "execution_count": 8,
   "metadata": {},
   "outputs": [],
   "source": [
    "def map_emotion(prediction):\n",
    "    highest = max(prediction)\n",
    "    emotion = []\n",
    "    for pred in prediction:\n",
    "        if pred == highest:\n",
    "            emotion.append(1)\n",
    "        else:\n",
    "            emotion.append(0)\n",
    "    emotions = ['Anger', 'Disgust', 'Fear', 'Happy', 'Sad', 'Surprise', 'Neutral']\n",
    "    for a, b in zip(emotion, emotions):\n",
    "        if a == 1:\n",
    "            return b"
   ]
  },
  {
   "cell_type": "code",
   "execution_count": 9,
   "metadata": {},
   "outputs": [],
   "source": [
    "haar_cascade = cv2.CascadeClassifier('haarcascade_frontalface_default.xml')\n",
    "font = cv2.FONT_HERSHEY_SIMPLEX"
   ]
  },
  {
   "cell_type": "code",
   "execution_count": 10,
   "metadata": {},
   "outputs": [],
   "source": [
    "def takePhoto():\n",
    "    video_capture = cv2.VideoCapture(0)\n",
    "    video_capture.set(3,1280)\n",
    "    video_capture.set(4,960)\n",
    "    predicts = []\n",
    "    while True:\n",
    "        ret, frame = video_capture.read()\n",
    "        gray = cv2.cvtColor(frame, cv2.COLOR_BGR2GRAY)\n",
    "        faces = haar_cascade.detectMultiScale(\n",
    "            gray,\n",
    "            scaleFactor=1.1,\n",
    "            minNeighbors=8,\n",
    "            minSize=(100, 100),\n",
    "            flags=cv2.CASCADE_SCALE_IMAGE\n",
    "        )\n",
    "        cv2.putText(frame,'Emotion:',(0,50), font, 1.5,(255,255,255),2,cv2.LINE_AA)\n",
    "        cv2.putText(frame,'Anger',(0,100), font, 1,(255,255,255),2,cv2.LINE_AA)\n",
    "        cv2.putText(frame,'Disgust',(0,150), font, 1,(255,255,255),2,cv2.LINE_AA)\n",
    "        cv2.putText(frame,'Fear',(0,200), font, 1,(255,255,255),2,cv2.LINE_AA)\n",
    "        cv2.putText(frame,'Happiness',(0,250), font, 1,(255,255,255),2,cv2.LINE_AA)\n",
    "        cv2.putText(frame,'Sadness',(0,300), font, 1,(255,255,255),2,cv2.LINE_AA)\n",
    "        cv2.putText(frame,'Surprise',(0,350), font, 1,(255,255,255),2,cv2.LINE_AA)\n",
    "        cv2.putText(frame,'Neutrality',(0,400), font, 1,(255,255,255),2,cv2.LINE_AA)\n",
    "        for (x, y, w, h) in faces:\n",
    "            cv2.rectangle(frame, (x, y), (x+w, y+h), (0, 255, 0), 2)\n",
    "            gray_face = cv2.resize(gray[y:(y+h), x:(x+w)], (48, 48), interpolation = cv2.INTER_CUBIC)\n",
    "            gray_face = gray_face.reshape([-1, 48, 48, 1])\n",
    "            prediction = model.predict(gray_face)\n",
    "            percentages = [(str(np.around(prediction[0][i] * 100)) + '%') for i in range(7)]\n",
    "            cv2.putText(frame, percentages[0],(200,100), font, 1,(0,255,255),2,cv2.LINE_AA)\n",
    "            cv2.putText(frame, percentages[1],(200,150), font, 1,(0,255,255),2,cv2.LINE_AA)\n",
    "            cv2.putText(frame, percentages[2],(200,200), font, 1,(0,255,255),2,cv2.LINE_AA)\n",
    "            cv2.putText(frame, percentages[3],(200,250), font, 1,(0,255,255),2,cv2.LINE_AA)\n",
    "            cv2.putText(frame, percentages[4],(200,300), font, 1,(0,255,255),2,cv2.LINE_AA)\n",
    "            cv2.putText(frame, percentages[5],(200,350), font, 1,(0,255,255),2,cv2.LINE_AA)\n",
    "            cv2.putText(frame, percentages[6],(200,400), font, 1,(0,255,255),2,cv2.LINE_AA)\n",
    "            cv2.putText(frame, map_emotion(prediction[0]), (250, 50), font, 1,(0,255,255),2,cv2.LINE_AA)\n",
    "            a = 0\n",
    "            for i in range(30000):\n",
    "                a = i\n",
    "        cv2.imshow('Video', frame)\n",
    "        if cv2.waitKey(1) & 0xFF == ord('q'):\n",
    "            break\n",
    "    video_capture.release()\n",
    "    cv2.destroyAllWindows()"
   ]
  },
  {
   "cell_type": "code",
   "execution_count": 11,
   "metadata": {
    "scrolled": true
   },
   "outputs": [],
   "source": [
    "takePhoto()"
   ]
  }
 ],
 "metadata": {
  "kernelspec": {
   "display_name": "Python 3",
   "language": "python",
   "name": "python3"
  },
  "language_info": {
   "codemirror_mode": {
    "name": "ipython",
    "version": 3
   },
   "file_extension": ".py",
   "mimetype": "text/x-python",
   "name": "python",
   "nbconvert_exporter": "python",
   "pygments_lexer": "ipython3",
   "version": "3.5.4"
  }
 },
 "nbformat": 4,
 "nbformat_minor": 2
}
